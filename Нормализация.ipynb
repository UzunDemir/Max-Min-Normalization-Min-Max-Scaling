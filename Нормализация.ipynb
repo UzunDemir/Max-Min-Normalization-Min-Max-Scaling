{
 "cells": [
  {
   "cell_type": "markdown",
   "metadata": {},
   "source": [
    "# Нормализация (Max-Min Normalization, Min-Max Scaling)\n",
    " – техника преобразования значений признака (Feature), масштабирующая значения таким образом, что они располагаются в диапазоне от 0 до 1. Вычисляется каждый нормализованный элемент признака с помощью формулы.\n",
    " Цель такого преобразования – изменить значения числовых столбцов в наборе данных так, чтобы сохранить различия их диапазонов. В Машинном обучении (Machine Learning) Датасет (Dataset) требует нормализации, когда признаки имеют разные диапазоны и тем самым способствуют искажению восприятия взаимоотношений между Переменными-предикторами (Predictor Variable) и Целевой переменной (Target Variable).\n",
    " Нормализация и SkLearn\n",
    "Нормализовать можно с помощью функции SkLearn. Импортируем MinMaxScaler библиотеки Scikit-learn:\n"
   ]
  },
  {
   "cell_type": "code",
   "execution_count": 1,
   "metadata": {
    "id": "VJDOCvnnOzQz"
   },
   "outputs": [],
   "source": [
    "import pandas as pd\n",
    "\n",
    "import sklearn\n",
    "from sklearn.preprocessing import MinMaxScaler"
   ]
  },
  {
   "cell_type": "markdown",
   "metadata": {
    "id": "J_fEa41kLHng"
   },
   "source": [
    "Библиотеки быстро эволюционируют, потому указывается рабочая версия, с которой работал автор на момент написания статьи. Для быстрого дебаггинга используйте команду для установки явной версии '!pip install [библиотека]==[версия]'."
   ]
  },
  {
   "cell_type": "code",
   "execution_count": 2,
   "metadata": {
    "colab": {
     "base_uri": "https://localhost:8080/"
    },
    "id": "Hu83yksBLIkR",
    "outputId": "1c0aa1c3-acb7-440b-aa5e-ed6c27374ab2"
   },
   "outputs": [
    {
     "name": "stdout",
     "output_type": "stream",
     "text": [
      "1.3.4\n",
      "0.24.2\n"
     ]
    }
   ],
   "source": [
    "print(pd.__version__)\n",
    "print(sklearn.__version__)"
   ]
  },
  {
   "cell_type": "code",
   "execution_count": 3,
   "metadata": {
    "colab": {
     "base_uri": "https://localhost:8080/",
     "height": 418
    },
    "id": "ktBbdj3_O_Rm",
    "outputId": "b6b703b0-250d-4e4a-aac5-be66b1e582b8"
   },
   "outputs": [
    {
     "data": {
      "text/html": [
       "<div>\n",
       "<style scoped>\n",
       "    .dataframe tbody tr th:only-of-type {\n",
       "        vertical-align: middle;\n",
       "    }\n",
       "\n",
       "    .dataframe tbody tr th {\n",
       "        vertical-align: top;\n",
       "    }\n",
       "\n",
       "    .dataframe thead th {\n",
       "        text-align: right;\n",
       "    }\n",
       "</style>\n",
       "<table border=\"1\" class=\"dataframe\">\n",
       "  <thead>\n",
       "    <tr style=\"text-align: right;\">\n",
       "      <th></th>\n",
       "      <th>Возраст</th>\n",
       "      <th>Работа</th>\n",
       "      <th>Семейный статус</th>\n",
       "      <th>Образование</th>\n",
       "      <th>Кредитный дефолт</th>\n",
       "      <th>Ипотека</th>\n",
       "      <th>Займ</th>\n",
       "      <th>Контакт</th>\n",
       "      <th>Месяц</th>\n",
       "      <th>День недели</th>\n",
       "      <th>...</th>\n",
       "      <th>Кампания</th>\n",
       "      <th>День</th>\n",
       "      <th>Предыдущий контакт</th>\n",
       "      <th>Доходность</th>\n",
       "      <th>Колебание уровня безработицы</th>\n",
       "      <th>Индекс потребительских цен</th>\n",
       "      <th>Индекс потребительской уверенности</th>\n",
       "      <th>Европейская межбанковская ставка</th>\n",
       "      <th>Количество сотрудников в компании</th>\n",
       "      <th>y</th>\n",
       "    </tr>\n",
       "  </thead>\n",
       "  <tbody>\n",
       "    <tr>\n",
       "      <th>0</th>\n",
       "      <td>27</td>\n",
       "      <td>Самозанятый</td>\n",
       "      <td>Не женат / не замужем</td>\n",
       "      <td>Университетская степень</td>\n",
       "      <td>Нет</td>\n",
       "      <td>Нет</td>\n",
       "      <td>Нет</td>\n",
       "      <td>Городской телефон</td>\n",
       "      <td>Октябрь</td>\n",
       "      <td>Пятница</td>\n",
       "      <td>...</td>\n",
       "      <td>1</td>\n",
       "      <td>999</td>\n",
       "      <td>0</td>\n",
       "      <td>Отсутствует</td>\n",
       "      <td>-0.1</td>\n",
       "      <td>93.798</td>\n",
       "      <td>-40.4</td>\n",
       "      <td>5.045</td>\n",
       "      <td>5195.8</td>\n",
       "      <td>Нет</td>\n",
       "    </tr>\n",
       "    <tr>\n",
       "      <th>1</th>\n",
       "      <td>30</td>\n",
       "      <td>Преддприниматель</td>\n",
       "      <td>Женат / замужем</td>\n",
       "      <td>Университетская степень</td>\n",
       "      <td>Нет</td>\n",
       "      <td>Нет</td>\n",
       "      <td>Нет</td>\n",
       "      <td>Городской телефон</td>\n",
       "      <td>Октябрь</td>\n",
       "      <td>Пятница</td>\n",
       "      <td>...</td>\n",
       "      <td>1</td>\n",
       "      <td>999</td>\n",
       "      <td>0</td>\n",
       "      <td>Отсутствует</td>\n",
       "      <td>-0.1</td>\n",
       "      <td>93.798</td>\n",
       "      <td>-40.4</td>\n",
       "      <td>5.045</td>\n",
       "      <td>5195.8</td>\n",
       "      <td>Да</td>\n",
       "    </tr>\n",
       "    <tr>\n",
       "      <th>2</th>\n",
       "      <td>39</td>\n",
       "      <td>Голубой воротничок</td>\n",
       "      <td>Женат / замужем</td>\n",
       "      <td>Базовое (9 классов)</td>\n",
       "      <td>Нет</td>\n",
       "      <td>Нет</td>\n",
       "      <td>Нет</td>\n",
       "      <td>Городской телефон</td>\n",
       "      <td>Октябрь</td>\n",
       "      <td>Пятница</td>\n",
       "      <td>...</td>\n",
       "      <td>1</td>\n",
       "      <td>999</td>\n",
       "      <td>0</td>\n",
       "      <td>Отсутствует</td>\n",
       "      <td>-0.1</td>\n",
       "      <td>93.798</td>\n",
       "      <td>-40.4</td>\n",
       "      <td>5.045</td>\n",
       "      <td>5195.8</td>\n",
       "      <td>Да</td>\n",
       "    </tr>\n",
       "    <tr>\n",
       "      <th>3</th>\n",
       "      <td>42</td>\n",
       "      <td>Менеджер</td>\n",
       "      <td>Женат / замужем</td>\n",
       "      <td>Высшая школа</td>\n",
       "      <td>Нет</td>\n",
       "      <td>Да</td>\n",
       "      <td>Да</td>\n",
       "      <td>Городской телефон</td>\n",
       "      <td>Октябрь</td>\n",
       "      <td>Пятница</td>\n",
       "      <td>...</td>\n",
       "      <td>1</td>\n",
       "      <td>999</td>\n",
       "      <td>0</td>\n",
       "      <td>Отсутствует</td>\n",
       "      <td>-0.1</td>\n",
       "      <td>93.798</td>\n",
       "      <td>-40.4</td>\n",
       "      <td>5.045</td>\n",
       "      <td>5195.8</td>\n",
       "      <td>Да</td>\n",
       "    </tr>\n",
       "    <tr>\n",
       "      <th>4</th>\n",
       "      <td>42</td>\n",
       "      <td>Самозанятый</td>\n",
       "      <td>Женат / замужем</td>\n",
       "      <td>Базовое (4 класса)</td>\n",
       "      <td>Нет</td>\n",
       "      <td>Нет</td>\n",
       "      <td>Нет</td>\n",
       "      <td>Городской телефон</td>\n",
       "      <td>Октябрь</td>\n",
       "      <td>Пятница</td>\n",
       "      <td>...</td>\n",
       "      <td>1</td>\n",
       "      <td>999</td>\n",
       "      <td>0</td>\n",
       "      <td>Отсутствует</td>\n",
       "      <td>-0.1</td>\n",
       "      <td>93.798</td>\n",
       "      <td>-40.4</td>\n",
       "      <td>5.045</td>\n",
       "      <td>5195.8</td>\n",
       "      <td>Да</td>\n",
       "    </tr>\n",
       "  </tbody>\n",
       "</table>\n",
       "<p>5 rows × 21 columns</p>\n",
       "</div>"
      ],
      "text/plain": [
       "   Возраст              Работа        Семейный статус  \\\n",
       "0       27         Самозанятый  Не женат / не замужем   \n",
       "1       30    Преддприниматель        Женат / замужем   \n",
       "2       39  Голубой воротничок        Женат / замужем   \n",
       "3       42            Менеджер        Женат / замужем   \n",
       "4       42         Самозанятый        Женат / замужем   \n",
       "\n",
       "               Образование Кредитный дефолт Ипотека Займ            Контакт  \\\n",
       "0  Университетская степень              Нет     Нет  Нет  Городской телефон   \n",
       "1  Университетская степень              Нет     Нет  Нет  Городской телефон   \n",
       "2      Базовое (9 классов)              Нет     Нет  Нет  Городской телефон   \n",
       "3             Высшая школа              Нет      Да   Да  Городской телефон   \n",
       "4       Базовое (4 класса)              Нет     Нет  Нет  Городской телефон   \n",
       "\n",
       "     Месяц День недели  ...  Кампания  День  Предыдущий контакт   Доходность  \\\n",
       "0  Октябрь     Пятница  ...         1   999                   0  Отсутствует   \n",
       "1  Октябрь     Пятница  ...         1   999                   0  Отсутствует   \n",
       "2  Октябрь     Пятница  ...         1   999                   0  Отсутствует   \n",
       "3  Октябрь     Пятница  ...         1   999                   0  Отсутствует   \n",
       "4  Октябрь     Пятница  ...         1   999                   0  Отсутствует   \n",
       "\n",
       "  Колебание уровня безработицы  Индекс потребительских цен  \\\n",
       "0                         -0.1                      93.798   \n",
       "1                         -0.1                      93.798   \n",
       "2                         -0.1                      93.798   \n",
       "3                         -0.1                      93.798   \n",
       "4                         -0.1                      93.798   \n",
       "\n",
       "   Индекс потребительской уверенности  Европейская межбанковская ставка  \\\n",
       "0                               -40.4                             5.045   \n",
       "1                               -40.4                             5.045   \n",
       "2                               -40.4                             5.045   \n",
       "3                               -40.4                             5.045   \n",
       "4                               -40.4                             5.045   \n",
       "\n",
       "   Количество сотрудников в компании    y  \n",
       "0                             5195.8  Нет  \n",
       "1                             5195.8   Да  \n",
       "2                             5195.8   Да  \n",
       "3                             5195.8   Да  \n",
       "4                             5195.8   Да  \n",
       "\n",
       "[5 rows x 21 columns]"
      ]
     },
     "execution_count": 3,
     "metadata": {},
     "output_type": "execute_result"
    }
   ],
   "source": [
    "# Импортируем датасет, разделителем  является точка с запятой (sep = ';'):\n",
    "df = pd.read_csv('https://www.dropbox.com/s/62xm9ymoaunnfg6/bank-full.csv?dl=1', sep = ';')\n",
    "df.head()"
   ]
  },
  {
   "cell_type": "code",
   "execution_count": 4,
   "metadata": {
    "colab": {
     "base_uri": "https://localhost:8080/"
    },
    "id": "ljtV8IDXP6Bb",
    "outputId": "54fe7d5b-32c0-451c-db46-329e69c8a504"
   },
   "outputs": [
    {
     "data": {
      "text/plain": [
       "Возраст                                 int64\n",
       "Работа                                 object\n",
       "Семейный статус                        object\n",
       "Образование                            object\n",
       "Кредитный дефолт                       object\n",
       "Ипотека                                object\n",
       "Займ                                   object\n",
       "Контакт                                object\n",
       "Месяц                                  object\n",
       "День недели                            object\n",
       "Длительность                            int64\n",
       "Кампания                                int64\n",
       "День                                    int64\n",
       "Предыдущий контакт                      int64\n",
       "Доходность                             object\n",
       "Колебание уровня безработицы          float64\n",
       "Индекс потребительских цен            float64\n",
       "Индекс потребительской уверенности    float64\n",
       "Европейская межбанковская ставка      float64\n",
       "Количество сотрудников в компании     float64\n",
       "y                                      object\n",
       "dtype: object"
      ]
     },
     "execution_count": 4,
     "metadata": {},
     "output_type": "execute_result"
    }
   ],
   "source": [
    "#Определим, какие признаки являются числовыми, чтобы впоследствии их нормализовать:\n",
    "df.dtypes"
   ]
  },
  {
   "cell_type": "markdown",
   "metadata": {},
   "source": [
    "Для простоты восприятия сузим датасет и создадим его копию, состоящую только из признаков, выраженных числами:"
   ]
  },
  {
   "cell_type": "code",
   "execution_count": 6,
   "metadata": {
    "id": "lTBRQooQQPQY"
   },
   "outputs": [],
   "source": [
    "# Выберем встретившиеся числовые типы\n",
    "numerics = ['int64', 'float64']\n",
    "\n",
    "# Создадим копию датасета\n",
    "newdf = df.select_dtypes(include = numerics)"
   ]
  },
  {
   "cell_type": "markdown",
   "metadata": {},
   "source": [
    "Теперь приступим непосредственно к нормализации:"
   ]
  },
  {
   "cell_type": "code",
   "execution_count": 7,
   "metadata": {
    "colab": {
     "base_uri": "https://localhost:8080/",
     "height": 206
    },
    "id": "-S9Cz-VhPEt8",
    "outputId": "e11f56a3-c384-4b2d-cd9f-f6d9566e7dcd"
   },
   "outputs": [
    {
     "data": {
      "text/html": [
       "<div>\n",
       "<style scoped>\n",
       "    .dataframe tbody tr th:only-of-type {\n",
       "        vertical-align: middle;\n",
       "    }\n",
       "\n",
       "    .dataframe tbody tr th {\n",
       "        vertical-align: top;\n",
       "    }\n",
       "\n",
       "    .dataframe thead th {\n",
       "        text-align: right;\n",
       "    }\n",
       "</style>\n",
       "<table border=\"1\" class=\"dataframe\">\n",
       "  <thead>\n",
       "    <tr style=\"text-align: right;\">\n",
       "      <th></th>\n",
       "      <th>Возраст</th>\n",
       "      <th>Длительность</th>\n",
       "      <th>Кампания</th>\n",
       "      <th>День</th>\n",
       "      <th>Предыдущий контакт</th>\n",
       "      <th>Колебание уровня безработицы</th>\n",
       "      <th>Индекс потребительских цен</th>\n",
       "      <th>Индекс потребительской уверенности</th>\n",
       "      <th>Европейская межбанковская ставка</th>\n",
       "      <th>Количество сотрудников в компании</th>\n",
       "    </tr>\n",
       "  </thead>\n",
       "  <tbody>\n",
       "    <tr>\n",
       "      <th>0</th>\n",
       "      <td>0.123457</td>\n",
       "      <td>0.004880</td>\n",
       "      <td>0.0</td>\n",
       "      <td>1.0</td>\n",
       "      <td>0.0</td>\n",
       "      <td>0.6875</td>\n",
       "      <td>0.622369</td>\n",
       "      <td>0.435146</td>\n",
       "      <td>1.0</td>\n",
       "      <td>0.877883</td>\n",
       "    </tr>\n",
       "    <tr>\n",
       "      <th>1</th>\n",
       "      <td>0.160494</td>\n",
       "      <td>0.045344</td>\n",
       "      <td>0.0</td>\n",
       "      <td>1.0</td>\n",
       "      <td>0.0</td>\n",
       "      <td>0.6875</td>\n",
       "      <td>0.622369</td>\n",
       "      <td>0.435146</td>\n",
       "      <td>1.0</td>\n",
       "      <td>0.877883</td>\n",
       "    </tr>\n",
       "    <tr>\n",
       "      <th>2</th>\n",
       "      <td>0.271605</td>\n",
       "      <td>0.054900</td>\n",
       "      <td>0.0</td>\n",
       "      <td>1.0</td>\n",
       "      <td>0.0</td>\n",
       "      <td>0.6875</td>\n",
       "      <td>0.622369</td>\n",
       "      <td>0.435146</td>\n",
       "      <td>1.0</td>\n",
       "      <td>0.877883</td>\n",
       "    </tr>\n",
       "    <tr>\n",
       "      <th>3</th>\n",
       "      <td>0.308642</td>\n",
       "      <td>0.020943</td>\n",
       "      <td>0.0</td>\n",
       "      <td>1.0</td>\n",
       "      <td>0.0</td>\n",
       "      <td>0.6875</td>\n",
       "      <td>0.622369</td>\n",
       "      <td>0.435146</td>\n",
       "      <td>1.0</td>\n",
       "      <td>0.877883</td>\n",
       "    </tr>\n",
       "    <tr>\n",
       "      <th>4</th>\n",
       "      <td>0.308642</td>\n",
       "      <td>0.097194</td>\n",
       "      <td>0.0</td>\n",
       "      <td>1.0</td>\n",
       "      <td>0.0</td>\n",
       "      <td>0.6875</td>\n",
       "      <td>0.622369</td>\n",
       "      <td>0.435146</td>\n",
       "      <td>1.0</td>\n",
       "      <td>0.877883</td>\n",
       "    </tr>\n",
       "  </tbody>\n",
       "</table>\n",
       "</div>"
      ],
      "text/plain": [
       "    Возраст  Длительность  Кампания  День  Предыдущий контакт  \\\n",
       "0  0.123457      0.004880       0.0   1.0                 0.0   \n",
       "1  0.160494      0.045344       0.0   1.0                 0.0   \n",
       "2  0.271605      0.054900       0.0   1.0                 0.0   \n",
       "3  0.308642      0.020943       0.0   1.0                 0.0   \n",
       "4  0.308642      0.097194       0.0   1.0                 0.0   \n",
       "\n",
       "   Колебание уровня безработицы  Индекс потребительских цен  \\\n",
       "0                        0.6875                    0.622369   \n",
       "1                        0.6875                    0.622369   \n",
       "2                        0.6875                    0.622369   \n",
       "3                        0.6875                    0.622369   \n",
       "4                        0.6875                    0.622369   \n",
       "\n",
       "   Индекс потребительской уверенности  Европейская межбанковская ставка  \\\n",
       "0                            0.435146                               1.0   \n",
       "1                            0.435146                               1.0   \n",
       "2                            0.435146                               1.0   \n",
       "3                            0.435146                               1.0   \n",
       "4                            0.435146                               1.0   \n",
       "\n",
       "   Количество сотрудников в компании  \n",
       "0                           0.877883  \n",
       "1                           0.877883  \n",
       "2                           0.877883  \n",
       "3                           0.877883  \n",
       "4                           0.877883  "
      ]
     },
     "execution_count": 7,
     "metadata": {},
     "output_type": "execute_result"
    }
   ],
   "source": [
    "# Инициализация нормализатора\n",
    "scaler = MinMaxScaler()\n",
    "\n",
    "# Передача датасета и преобразование\n",
    "scaler.fit(newdf)\n",
    "scaled_features = scaler.transform(newdf)\n",
    "\n",
    "# Конвертация в табличный формат\n",
    "df_MinMax = pd.DataFrame(data = scaled_features, \n",
    "columns = [\"Возраст\", \n",
    "          \"Длительность\",\n",
    "          \"Кампания\",\n",
    "          \"День\",\n",
    "          \"Предыдущий контакт\", \n",
    "          \"Колебание уровня безработицы\", \n",
    "          \"Индекс потребительских цен\",\n",
    "          \"Индекс потребительской уверенности\",\n",
    "          \"Европейская межбанковская ставка\",\n",
    "          \"Количество сотрудников в компании\"])\n",
    "\n",
    "df_MinMax.head()"
   ]
  },
  {
   "cell_type": "markdown",
   "metadata": {},
   "source": [
    "Результирующий нормализованный датасет приобрел следующий вид и готов к дальнейшей обработке и загрузке в Модель (Model):"
   ]
  },
  {
   "attachments": {
    "image.png": {
     "image/png": "[encoded data removed]"
    }
   },
   "cell_type": "markdown",
   "metadata": {},
   "source": [
    "![image.png](attachment:image.png)"
   ]
  },
  {
   "cell_type": "markdown",
   "metadata": {},
   "source": [
    "Нормализация и стандартизация\n",
    "Стандартизация (Standartization) является разновидностью нормализации с использованием Стандартизованной оценки (Z-Score) и как бы центрирует наблюдения относительно нуля. Расстояние от нуля, то есть Дисперсия случайной величины (Variance) не превышает единицы:"
   ]
  },
  {
   "cell_type": "code",
   "execution_count": null,
   "metadata": {},
   "outputs": [],
   "source": [
    "# Исходные данные\n",
    "[[0, 0], [0, 0], [1, 1], [1, 1]]\n",
    "\n",
    "# Стандартизованные данные\n",
    "[[-1, -1], [-1, -1], [1, 1], [1, 1]]"
   ]
  }
 ],
 "metadata": {
  "colab": {
   "collapsed_sections": [],
   "provenance": []
  },
  "kernelspec": {
   "display_name": "Python 3 (ipykernel)",
   "language": "python",
   "name": "python3"
  },
  "language_info": {
   "codemirror_mode": {
    "name": "ipython",
    "version": 3
   },
   "file_extension": ".py",
   "mimetype": "text/x-python",
   "name": "python",
   "nbconvert_exporter": "python",
   "pygments_lexer": "ipython3",
   "version": "3.9.7"
  }
 },
 "nbformat": 4,
 "nbformat_minor": 1
}
